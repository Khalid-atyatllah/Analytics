{
 "cells": [
  {
   "cell_type": "markdown",
   "id": "1ec04031",
   "metadata": {},
   "source": [
    "# Project Overview:\n",
    "\n",
    "## Objective: \n",
    "#### This project involves web scraping and analyzing e-commerce data from a specific website.\n",
    "## 1. Data Scraping: \n",
    "#### The primary goal is to gather comprehensive data about various products, including their names, prices, descriptions, star ratings, and URLs.\n",
    "## 2. Programming Language:\n",
    "#### Python is used as the primary programming language for web scraping, data preprocessing, and analysis.\n",
    "## 3. Libraries: \n",
    "#### requests, BeautifulSoup, pandas, csv, matplotlib and seaborn.\n",
    "## Data Processing: \n",
    "#### Data preprocessing includes cleaning and transformation tasks, such as removing unwanted characters and converting data types.\n",
    "## Data Analysis: \n",
    "### Basic data analysis is performed, which includes generating summary statistics for price data and creating visualizations (histograms and scatter plots) to gain insights into the distribution of prices and the relationship between price and star ratings."
   ]
  },
  {
   "cell_type": "markdown",
   "id": "da5949da",
   "metadata": {},
   "source": [
    "# 1. Data Scraping:\n"
   ]
  },
  {
   "cell_type": "code",
   "execution_count": 157,
   "id": "1dc679a4",
   "metadata": {
    "scrolled": false
   },
   "outputs": [
    {
     "data": {
      "text/html": [
       "<div>\n",
       "<style scoped>\n",
       "    .dataframe tbody tr th:only-of-type {\n",
       "        vertical-align: middle;\n",
       "    }\n",
       "\n",
       "    .dataframe tbody tr th {\n",
       "        vertical-align: top;\n",
       "    }\n",
       "\n",
       "    .dataframe thead th {\n",
       "        text-align: right;\n",
       "    }\n",
       "</style>\n",
       "<table border=\"1\" class=\"dataframe\">\n",
       "  <thead>\n",
       "    <tr style=\"text-align: right;\">\n",
       "      <th></th>\n",
       "      <th>name</th>\n",
       "      <th>price</th>\n",
       "      <th>url</th>\n",
       "      <th>stars</th>\n",
       "      <th>description</th>\n",
       "    </tr>\n",
       "  </thead>\n",
       "  <tbody>\n",
       "    <tr>\n",
       "      <th>0</th>\n",
       "      <td>Nokia 123</td>\n",
       "      <td>$24.99</td>\n",
       "      <td>/test-sites/e-commerce/allinone/product/486</td>\n",
       "      <td>3</td>\n",
       "      <td>7 day battery</td>\n",
       "    </tr>\n",
       "    <tr>\n",
       "      <th>1</th>\n",
       "      <td>LG Optimus</td>\n",
       "      <td>$57.99</td>\n",
       "      <td>/test-sites/e-commerce/allinone/product/487</td>\n",
       "      <td>3</td>\n",
       "      <td>3.2\" screen</td>\n",
       "    </tr>\n",
       "    <tr>\n",
       "      <th>2</th>\n",
       "      <td>Samsung Galaxy</td>\n",
       "      <td>$93.99</td>\n",
       "      <td>/test-sites/e-commerce/allinone/product/488</td>\n",
       "      <td>3</td>\n",
       "      <td>5 mpx. Android 5.0</td>\n",
       "    </tr>\n",
       "    <tr>\n",
       "      <th>3</th>\n",
       "      <td>Nokia X</td>\n",
       "      <td>$109.99</td>\n",
       "      <td>/test-sites/e-commerce/allinone/product/489</td>\n",
       "      <td>4</td>\n",
       "      <td>Andoid, Jolla dualboot</td>\n",
       "    </tr>\n",
       "    <tr>\n",
       "      <th>4</th>\n",
       "      <td>Sony Xperia</td>\n",
       "      <td>$118.99</td>\n",
       "      <td>/test-sites/e-commerce/allinone/product/490</td>\n",
       "      <td>1</td>\n",
       "      <td>GPS, waterproof</td>\n",
       "    </tr>\n",
       "    <tr>\n",
       "      <th>5</th>\n",
       "      <td>Ubuntu Edge</td>\n",
       "      <td>$499.99</td>\n",
       "      <td>/test-sites/e-commerce/allinone/product/491</td>\n",
       "      <td>1</td>\n",
       "      <td>Sapphire glass</td>\n",
       "    </tr>\n",
       "    <tr>\n",
       "      <th>6</th>\n",
       "      <td>Iphone</td>\n",
       "      <td>$899.99</td>\n",
       "      <td>/test-sites/e-commerce/allinone/product/492</td>\n",
       "      <td>1</td>\n",
       "      <td>White</td>\n",
       "    </tr>\n",
       "    <tr>\n",
       "      <th>7</th>\n",
       "      <td>Iphone</td>\n",
       "      <td>$899.99</td>\n",
       "      <td>/test-sites/e-commerce/allinone/product/493</td>\n",
       "      <td>2</td>\n",
       "      <td>Silver</td>\n",
       "    </tr>\n",
       "    <tr>\n",
       "      <th>8</th>\n",
       "      <td>Iphone</td>\n",
       "      <td>$899.99</td>\n",
       "      <td>/test-sites/e-commerce/allinone/product/494</td>\n",
       "      <td>1</td>\n",
       "      <td>Black</td>\n",
       "    </tr>\n",
       "  </tbody>\n",
       "</table>\n",
       "</div>"
      ],
      "text/plain": [
       "             name    price                                          url stars  \\\n",
       "0       Nokia 123   $24.99  /test-sites/e-commerce/allinone/product/486     3   \n",
       "1      LG Optimus   $57.99  /test-sites/e-commerce/allinone/product/487     3   \n",
       "2  Samsung Galaxy   $93.99  /test-sites/e-commerce/allinone/product/488     3   \n",
       "3         Nokia X  $109.99  /test-sites/e-commerce/allinone/product/489     4   \n",
       "4     Sony Xperia  $118.99  /test-sites/e-commerce/allinone/product/490     1   \n",
       "5     Ubuntu Edge  $499.99  /test-sites/e-commerce/allinone/product/491     1   \n",
       "6          Iphone  $899.99  /test-sites/e-commerce/allinone/product/492     1   \n",
       "7          Iphone  $899.99  /test-sites/e-commerce/allinone/product/493     2   \n",
       "8          Iphone  $899.99  /test-sites/e-commerce/allinone/product/494     1   \n",
       "\n",
       "              description  \n",
       "0           7 day battery  \n",
       "1             3.2\" screen  \n",
       "2      5 mpx. Android 5.0  \n",
       "3  Andoid, Jolla dualboot  \n",
       "4         GPS, waterproof  \n",
       "5          Sapphire glass  \n",
       "6                   White  \n",
       "7                  Silver  \n",
       "8                   Black  "
      ]
     },
     "execution_count": 157,
     "metadata": {},
     "output_type": "execute_result"
    }
   ],
   "source": [
    "#Importing Libraries:\n",
    "import requests\n",
    "from bs4 import BeautifulSoup\n",
    "import csv\n",
    "import pandas as pd\n",
    "import seaborn as sns\n",
    "import matplotlib.pyplot as plt\n",
    "\n",
    "# Define the URL to scrape\n",
    "url = \"https://webscraper.io/test-sites/e-commerce/allinone/phones/touch\"\n",
    "page = requests.get(url)\n",
    "soup = BeautifulSoup(page.text, 'html.parser')\n",
    "\n",
    "items = soup.find_all('div', class_='col-sm-4 col-lg-4 col-md-4')\n",
    "\n",
    "# Loop through each item and extract relevant information\n",
    "data_list = []\n",
    "\n",
    "# Loop through each item and extract relevant information\n",
    "for article in items:\n",
    "    price = article.find('h4', class_=\"pull-right price\").get_text()\n",
    "    name = article.find('a', class_='title').get_text()\n",
    "    description = article.find('p', class_='description').get_text()\n",
    "    stars = article.find('p', {'data-rating': True})  # Find the <p> element with a 'data-rating' attribute\n",
    "    url = article.find('a', href=True)['href'] \n",
    "\n",
    "\n",
    "    \n",
    "    # Append the data to the data_list\n",
    "    data = [name, price, url, stars, description ]\n",
    "    data_list.append(data)\n",
    "\n",
    "# Define the header row for the CSV file\n",
    "header = ['name', 'price', 'url', 'stars', 'description']\n",
    "\n",
    "# Write the data to a CSV file named 'WebScraperDataset.csv'\n",
    "with open('WebScraperDataset.csv', 'w', newline='', encoding='UTF8') as f:\n",
    "    writer = csv.writer(f)\n",
    "    writer.writerow(header)\n",
    "    writer.writerows(data_list)\n",
    "\n",
    "# Read the CSV file into a Pandas DataFrame\n",
    "df = pd.read_csv('WebScraperDataset.csv')\n",
    "\n",
    "# Extract the numeric part of the 'stars' column\n",
    "df['stars'] = df['stars'].str.extract(r'(\\d+)')\n",
    "\n",
    "df"
   ]
  },
  {
   "cell_type": "markdown",
   "id": "96c6d1b2",
   "metadata": {},
   "source": [
    " ### - We successfully scrape e-commerce data from the provided URL and store it in a CSV file and DataFrame for further analysis. "
   ]
  },
  {
   "cell_type": "markdown",
   "id": "bc382704",
   "metadata": {},
   "source": [
    "# 2. Data preprocessing:\n",
    "\n"
   ]
  },
  {
   "cell_type": "code",
   "execution_count": 166,
   "id": "5a1e7ddf",
   "metadata": {},
   "outputs": [
    {
     "data": {
      "text/html": [
       "<div>\n",
       "<style scoped>\n",
       "    .dataframe tbody tr th:only-of-type {\n",
       "        vertical-align: middle;\n",
       "    }\n",
       "\n",
       "    .dataframe tbody tr th {\n",
       "        vertical-align: top;\n",
       "    }\n",
       "\n",
       "    .dataframe thead th {\n",
       "        text-align: right;\n",
       "    }\n",
       "</style>\n",
       "<table border=\"1\" class=\"dataframe\">\n",
       "  <thead>\n",
       "    <tr style=\"text-align: right;\">\n",
       "      <th></th>\n",
       "      <th>name</th>\n",
       "      <th>price</th>\n",
       "      <th>url</th>\n",
       "      <th>stars</th>\n",
       "      <th>description</th>\n",
       "    </tr>\n",
       "  </thead>\n",
       "  <tbody>\n",
       "    <tr>\n",
       "      <th>0</th>\n",
       "      <td>Nokia 123</td>\n",
       "      <td>24.99</td>\n",
       "      <td>/test-sites/e-commerce/allinone/product/486</td>\n",
       "      <td>&lt;p data-rating=\"3\"&gt;\\n&lt;span class=\"ws-icon ws-i...</td>\n",
       "      <td>7 day battery</td>\n",
       "    </tr>\n",
       "    <tr>\n",
       "      <th>1</th>\n",
       "      <td>LG Optimus</td>\n",
       "      <td>57.99</td>\n",
       "      <td>/test-sites/e-commerce/allinone/product/487</td>\n",
       "      <td>&lt;p data-rating=\"3\"&gt;\\n&lt;span class=\"ws-icon ws-i...</td>\n",
       "      <td>3.2\" screen</td>\n",
       "    </tr>\n",
       "    <tr>\n",
       "      <th>2</th>\n",
       "      <td>Samsung Galaxy</td>\n",
       "      <td>93.99</td>\n",
       "      <td>/test-sites/e-commerce/allinone/product/488</td>\n",
       "      <td>&lt;p data-rating=\"3\"&gt;\\n&lt;span class=\"ws-icon ws-i...</td>\n",
       "      <td>5 mpx. Android 5.0</td>\n",
       "    </tr>\n",
       "    <tr>\n",
       "      <th>3</th>\n",
       "      <td>Nokia X</td>\n",
       "      <td>109.99</td>\n",
       "      <td>/test-sites/e-commerce/allinone/product/489</td>\n",
       "      <td>&lt;p data-rating=\"4\"&gt;\\n&lt;span class=\"ws-icon ws-i...</td>\n",
       "      <td>Andoid, Jolla dualboot</td>\n",
       "    </tr>\n",
       "    <tr>\n",
       "      <th>4</th>\n",
       "      <td>Sony Xperia</td>\n",
       "      <td>118.99</td>\n",
       "      <td>/test-sites/e-commerce/allinone/product/490</td>\n",
       "      <td>&lt;p data-rating=\"1\"&gt;\\n&lt;span class=\"ws-icon ws-i...</td>\n",
       "      <td>GPS, waterproof</td>\n",
       "    </tr>\n",
       "  </tbody>\n",
       "</table>\n",
       "</div>"
      ],
      "text/plain": [
       "             name   price                                          url  \\\n",
       "0       Nokia 123   24.99  /test-sites/e-commerce/allinone/product/486   \n",
       "1      LG Optimus   57.99  /test-sites/e-commerce/allinone/product/487   \n",
       "2  Samsung Galaxy   93.99  /test-sites/e-commerce/allinone/product/488   \n",
       "3         Nokia X  109.99  /test-sites/e-commerce/allinone/product/489   \n",
       "4     Sony Xperia  118.99  /test-sites/e-commerce/allinone/product/490   \n",
       "\n",
       "                                               stars             description  \n",
       "0  <p data-rating=\"3\">\\n<span class=\"ws-icon ws-i...           7 day battery  \n",
       "1  <p data-rating=\"3\">\\n<span class=\"ws-icon ws-i...             3.2\" screen  \n",
       "2  <p data-rating=\"3\">\\n<span class=\"ws-icon ws-i...      5 mpx. Android 5.0  \n",
       "3  <p data-rating=\"4\">\\n<span class=\"ws-icon ws-i...  Andoid, Jolla dualboot  \n",
       "4  <p data-rating=\"1\">\\n<span class=\"ws-icon ws-i...         GPS, waterproof  "
      ]
     },
     "execution_count": 166,
     "metadata": {},
     "output_type": "execute_result"
    }
   ],
   "source": [
    "df = pd.read_csv('WebScraperDataset.csv')\n",
    "\n",
    "# Remove the '$' symbol from the 'price' column and convert it to a floating-point number\n",
    "df['price'] = df['price'].str.replace('$', '').astype(float)\n",
    "\n",
    "# Display the first few rows of the DataFrame to inspect the changes\n",
    "df.head()"
   ]
  },
  {
   "cell_type": "code",
   "execution_count": 167,
   "id": "e77f3207",
   "metadata": {},
   "outputs": [
    {
     "name": "stdout",
     "output_type": "stream",
     "text": [
      "<class 'pandas.core.frame.DataFrame'>\n",
      "RangeIndex: 9 entries, 0 to 8\n",
      "Data columns (total 5 columns):\n",
      " #   Column       Non-Null Count  Dtype  \n",
      "---  ------       --------------  -----  \n",
      " 0   name         9 non-null      object \n",
      " 1   price        9 non-null      float64\n",
      " 2   url          9 non-null      object \n",
      " 3   stars        9 non-null      object \n",
      " 4   description  9 non-null      object \n",
      "dtypes: float64(1), object(4)\n",
      "memory usage: 492.0+ bytes\n"
     ]
    }
   ],
   "source": [
    "# Display concise information about the DataFrame\n",
    "df.info()\n"
   ]
  },
  {
   "cell_type": "code",
   "execution_count": 163,
   "id": "c1ee8af5",
   "metadata": {},
   "outputs": [
    {
     "data": {
      "text/html": [
       "<div>\n",
       "<style scoped>\n",
       "    .dataframe tbody tr th:only-of-type {\n",
       "        vertical-align: middle;\n",
       "    }\n",
       "\n",
       "    .dataframe tbody tr th {\n",
       "        vertical-align: top;\n",
       "    }\n",
       "\n",
       "    .dataframe thead th {\n",
       "        text-align: right;\n",
       "    }\n",
       "</style>\n",
       "<table border=\"1\" class=\"dataframe\">\n",
       "  <thead>\n",
       "    <tr style=\"text-align: right;\">\n",
       "      <th></th>\n",
       "      <th>price</th>\n",
       "    </tr>\n",
       "  </thead>\n",
       "  <tbody>\n",
       "    <tr>\n",
       "      <th>count</th>\n",
       "      <td>9.000000</td>\n",
       "    </tr>\n",
       "    <tr>\n",
       "      <th>mean</th>\n",
       "      <td>400.656667</td>\n",
       "    </tr>\n",
       "    <tr>\n",
       "      <th>std</th>\n",
       "      <td>399.105562</td>\n",
       "    </tr>\n",
       "    <tr>\n",
       "      <th>min</th>\n",
       "      <td>24.990000</td>\n",
       "    </tr>\n",
       "    <tr>\n",
       "      <th>25%</th>\n",
       "      <td>93.990000</td>\n",
       "    </tr>\n",
       "    <tr>\n",
       "      <th>50%</th>\n",
       "      <td>118.990000</td>\n",
       "    </tr>\n",
       "    <tr>\n",
       "      <th>75%</th>\n",
       "      <td>899.990000</td>\n",
       "    </tr>\n",
       "    <tr>\n",
       "      <th>max</th>\n",
       "      <td>899.990000</td>\n",
       "    </tr>\n",
       "  </tbody>\n",
       "</table>\n",
       "</div>"
      ],
      "text/plain": [
       "            price\n",
       "count    9.000000\n",
       "mean   400.656667\n",
       "std    399.105562\n",
       "min     24.990000\n",
       "25%     93.990000\n",
       "50%    118.990000\n",
       "75%    899.990000\n",
       "max    899.990000"
      ]
     },
     "execution_count": 163,
     "metadata": {},
     "output_type": "execute_result"
    }
   ],
   "source": [
    "# Display concise description about the DataFrame\n",
    "df.describe()"
   ]
  },
  {
   "cell_type": "code",
   "execution_count": 164,
   "id": "8d24c14c",
   "metadata": {
    "scrolled": true
   },
   "outputs": [
    {
     "data": {
      "text/plain": [
       "name           0\n",
       "price          0\n",
       "url            0\n",
       "stars          0\n",
       "description    0\n",
       "dtype: int64"
      ]
     },
     "execution_count": 164,
     "metadata": {},
     "output_type": "execute_result"
    }
   ],
   "source": [
    "# Count the number of missing values in each column of the DataFrame\n",
    "df.isnull().sum()\n"
   ]
  },
  {
   "cell_type": "markdown",
   "id": "7e3832b9",
   "metadata": {},
   "source": [
    "### I have properly processed and cleaned the data, which will significantly improve the accuracy and reliability of my analytical results."
   ]
  },
  {
   "cell_type": "markdown",
   "id": "888897b8",
   "metadata": {},
   "source": [
    "# 3. Data Analysis:"
   ]
  },
  {
   "cell_type": "code",
   "execution_count": 114,
   "id": "99e2602f",
   "metadata": {},
   "outputs": [
    {
     "data": {
      "text/plain": [
       "price\n",
       "899.99    3\n",
       "24.99     1\n",
       "57.99     1\n",
       "93.99     1\n",
       "109.99    1\n",
       "118.99    1\n",
       "499.99    1\n",
       "Name: count, dtype: int64"
      ]
     },
     "execution_count": 114,
     "metadata": {},
     "output_type": "execute_result"
    }
   ],
   "source": [
    "# Count the occurrences of each unique value in the 'price' column\n",
    "df['price'].value_counts()\n"
   ]
  },
  {
   "cell_type": "code",
   "execution_count": 134,
   "id": "7b5fe2ce",
   "metadata": {},
   "outputs": [
    {
     "name": "stdout",
     "output_type": "stream",
     "text": [
      "count      9.000000\n",
      "mean     400.656667\n",
      "std      399.105562\n",
      "min       24.990000\n",
      "25%       93.990000\n",
      "50%      118.990000\n",
      "75%      899.990000\n",
      "max      899.990000\n",
      "Name: price, dtype: float64\n"
     ]
    }
   ],
   "source": [
    "# Calculate and print summary statistics for the 'price' column\n",
    "price_stats = df['price'].describe()\n",
    "print(price_stats)"
   ]
  },
  {
   "cell_type": "code",
   "execution_count": 165,
   "id": "e9f437cf",
   "metadata": {},
   "outputs": [
    {
     "data": {
      "image/png": "[encoded data removed]",
      "text/plain": [
       "<Figure size 900x450 with 1 Axes>"
      ]
     },
     "metadata": {},
     "output_type": "display_data"
    }
   ],
   "source": [
    "# Creating a histogram of the 'price' column\n",
    "plt.figure(figsize=(9, 4.5))\n",
    "plt.hist(df['price'], bins=10, edgecolor='k', alpha=0.75)\n",
    "plt.xlabel('Price')\n",
    "plt.ylabel('Frequency')\n",
    "plt.title('Price Distribution Histogram')\n",
    "plt.grid(axis='y', linestyle='--', alpha=0.7)\n",
    "plt.show()"
   ]
  },
  {
   "cell_type": "markdown",
   "id": "47411ff1",
   "metadata": {},
   "source": [
    "### - the majority of products fall within the 0-200 price range, with fewer products in the 400-600 range,   and three relatively higher-priced products above 800."
   ]
  },
  {
   "cell_type": "code",
   "execution_count": 140,
   "id": "3949542b",
   "metadata": {},
   "outputs": [
    {
     "data": {
      "text/plain": [
       "stars\n",
       "1    4\n",
       "3    3\n",
       "4    1\n",
       "2    1\n",
       "Name: count, dtype: int64"
      ]
     },
     "execution_count": 140,
     "metadata": {},
     "output_type": "execute_result"
    }
   ],
   "source": [
    "# Count the occurrences of each unique value in the 'stars' column\n",
    "df['stars'].value_counts()"
   ]
  },
  {
   "cell_type": "code",
   "execution_count": 139,
   "id": "ca69add0",
   "metadata": {
    "scrolled": true
   },
   "outputs": [
    {
     "name": "stdout",
     "output_type": "stream",
     "text": [
      "count     9\n",
      "unique    4\n",
      "top       1\n",
      "freq      4\n",
      "Name: stars, dtype: object\n"
     ]
    }
   ],
   "source": [
    "# Calculate and print summary statistics for the 'stars' column\n",
    "price_stats = df['stars'].describe()\n",
    "print(price_stats)"
   ]
  },
  {
   "cell_type": "code",
   "execution_count": 138,
   "id": "921b5d44",
   "metadata": {},
   "outputs": [
    {
     "data": {
      "image/png": "[encoded data removed]",
      "text/plain": [
       "<Figure size 900x450 with 1 Axes>"
      ]
     },
     "metadata": {},
     "output_type": "display_data"
    }
   ],
   "source": [
    "# Creating a histogram of the 'stars' column\n",
    "plt.figure(figsize=(9, 4.5))\n",
    "plt.hist(df['stars'], bins=10, edgecolor='k', alpha=0.75)\n",
    "plt.xlabel('stars')\n",
    "plt.ylabel('Frequency')\n",
    "plt.title('Stars Distribution Histogram')\n",
    "plt.grid(axis='y', linestyle='--', alpha=0.7)\n",
    "plt.show()"
   ]
  },
  {
   "cell_type": "markdown",
   "id": "7c11f115",
   "metadata": {},
   "source": [
    "### - The majority of products have a 1-star rating.\n",
    "### - There are fewer products with 4 and 2 stars ratings.\n",
    "### - There are three products with 3 stars ."
   ]
  },
  {
   "cell_type": "code",
   "execution_count": 154,
   "id": "f9462dcc",
   "metadata": {
    "scrolled": true
   },
   "outputs": [
    {
     "data": {
      "image/png": "[encoded data removed]",
      "text/plain": [
       "<Figure size 900x450 with 1 Axes>"
      ]
     },
     "metadata": {},
     "output_type": "display_data"
    }
   ],
   "source": [
    "# Create a scatter plot to visualize the relationship between 'price' and 'stars' with 'name' as the differentiator\n",
    "sns.scatterplot(x = df['price'], y =df['stars'], hue=df[\"name\"])\n",
    "plt.show()"
   ]
  },
  {
   "cell_type": "markdown",
   "id": "95463236",
   "metadata": {},
   "source": [
    "### - While products in the lower price range (0-200) have a mix of star ratings (1 star, 3 stars, and 4 stars), the product in the mid-price range (400-600) has a lower star rating (1 star). The products with prices above 800 have a mix of star ratings (1 star and 2 stars)."
   ]
  },
  {
   "cell_type": "markdown",
   "id": "bf7fc524",
   "metadata": {},
   "source": [
    "# ---------------------------------------------------------------------"
   ]
  },
  {
   "cell_type": "markdown",
   "id": "a53ea452",
   "metadata": {},
   "source": [
    "### In summary, the analysis of products based on price ranges and star ratings has provided valuable insights into customer preferences and satisfaction levels. It is evident that customers have varying experiences across different price categories. In the lower price range (0-200), we observe a wide spectrum of star ratings, with a notable 4-star-rated product indicating strong value for money.\n",
    "\n",
    "### However, the mid-price range (400-600) presents a unique challenge, with a single product receiving only 1 star, raising concerns about its quality and value proposition. Additionally, in the high-end segment (above 800), we find variability in star ratings, underscoring the importance of consistently delivering quality and customer satisfaction even in premium-priced products.\n",
    "\n",
    "### To gain deeper insights and address these findings effectively, it is crucial to dive into customer feedback and reviews for each product category. This qualitative analysis can uncover specific strengths and weaknesses, guiding improvements and refinements.\n",
    "\n",
    "### Furthermore, aligning pricing strategies with the perceived value of products in each category is a strategic move. It can enhance product offerings, optimize pricing competitiveness, and ultimately lead to a more satisfied customer base.\n",
    "\n",
    "### In conclusion, this analysis not only sheds light on the current state of the product offerings but also paves the way for data-driven decisions aimed at improving customer satisfaction and market competitiveness."
   ]
  },
  {
   "cell_type": "code",
   "execution_count": null,
   "id": "b28a2144",
   "metadata": {},
   "outputs": [],
   "source": []
  }
 ],
 "metadata": {
  "kernelspec": {
   "display_name": "Python 3 (ipykernel)",
   "language": "python",
   "name": "python3"
  },
  "language_info": {
   "codemirror_mode": {
    "name": "ipython",
    "version": 3
   },
   "file_extension": ".py",
   "mimetype": "text/x-python",
   "name": "python",
   "nbconvert_exporter": "python",
   "pygments_lexer": "ipython3",
   "version": "3.11.5"
  }
 },
 "nbformat": 4,
 "nbformat_minor": 5
}
