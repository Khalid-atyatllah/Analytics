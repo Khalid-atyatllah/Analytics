{
 "cells": [
  {
   "cell_type": "code",
   "execution_count": 9,
   "id": "3a37d827-cc9c-4001-bb38-1b64d0ce50e7",
   "metadata": {},
   "outputs": [],
   "source": [
    "import pandas as pd\n",
    "import matplotlib.pyplot as plt\n",
    "import seaborn as sns\n",
    "import numpy as np"
   ]
  },
  {
   "cell_type": "markdown",
   "id": "1df5274d-31c9-4738-b846-7d68091256d7",
   "metadata": {},
   "source": [
    "# Loading the Dataset\n"
   ]
  },
  {
   "cell_type": "code",
   "execution_count": 18,
   "id": "ba88c717-2175-4e62-aaa1-756eec000256",
   "metadata": {},
   "outputs": [],
   "source": [
    "data=pd.read_csv(r\"C:\\Users\\lenovo\\Downloads\\spotify_top_charts_22.csv\")"
   ]
  },
  {
   "cell_type": "markdown",
   "id": "d1f1f051-0a41-42a7-97f0-926777ac9283",
   "metadata": {},
   "source": [
    "### Data Cleaning"
   ]
  },
  {
   "cell_type": "code",
   "execution_count": 19,
   "id": "0aa683d6-67b0-4aa1-b30b-7cf63a8f12da",
   "metadata": {},
   "outputs": [
    {
     "data": {
      "text/html": [
       "<div>\n",
       "<style scoped>\n",
       "    .dataframe tbody tr th:only-of-type {\n",
       "        vertical-align: middle;\n",
       "    }\n",
       "\n",
       "    .dataframe tbody tr th {\n",
       "        vertical-align: top;\n",
       "    }\n",
       "\n",
       "    .dataframe thead th {\n",
       "        text-align: right;\n",
       "    }\n",
       "</style>\n",
       "<table border=\"1\" class=\"dataframe\">\n",
       "  <thead>\n",
       "    <tr style=\"text-align: right;\">\n",
       "      <th></th>\n",
       "      <th>uri</th>\n",
       "      <th>artist_names</th>\n",
       "      <th>track_name</th>\n",
       "      <th>peak_rank</th>\n",
       "      <th>weeks_on_chart</th>\n",
       "      <th>danceability</th>\n",
       "      <th>energy</th>\n",
       "      <th>key</th>\n",
       "      <th>loudness</th>\n",
       "      <th>mode</th>\n",
       "      <th>speechiness</th>\n",
       "      <th>acousticness</th>\n",
       "      <th>instrumentalness</th>\n",
       "      <th>liveness</th>\n",
       "      <th>tempo</th>\n",
       "      <th>time_signature</th>\n",
       "      <th>duration_ms</th>\n",
       "    </tr>\n",
       "  </thead>\n",
       "  <tbody>\n",
       "    <tr>\n",
       "      <th>0</th>\n",
       "      <td>spotify:track:02MWAaffLxlfxAUY7c5dvx</td>\n",
       "      <td>Glass Animals</td>\n",
       "      <td>Heat Waves</td>\n",
       "      <td>1</td>\n",
       "      <td>65</td>\n",
       "      <td>0.761</td>\n",
       "      <td>0.525</td>\n",
       "      <td>11</td>\n",
       "      <td>-6.900</td>\n",
       "      <td>1</td>\n",
       "      <td>0.0944</td>\n",
       "      <td>0.4400</td>\n",
       "      <td>0.000007</td>\n",
       "      <td>0.0921</td>\n",
       "      <td>80.870</td>\n",
       "      <td>4</td>\n",
       "      <td>238805</td>\n",
       "    </tr>\n",
       "    <tr>\n",
       "      <th>1</th>\n",
       "      <td>spotify:track:5PjdY0CKGZdEuoNab3yDmX</td>\n",
       "      <td>The Kid LAROI, Justin Bieber</td>\n",
       "      <td>STAY (with Justin Bieber)</td>\n",
       "      <td>1</td>\n",
       "      <td>37</td>\n",
       "      <td>0.591</td>\n",
       "      <td>0.764</td>\n",
       "      <td>1</td>\n",
       "      <td>-5.484</td>\n",
       "      <td>1</td>\n",
       "      <td>0.0483</td>\n",
       "      <td>0.0383</td>\n",
       "      <td>0.000000</td>\n",
       "      <td>0.1030</td>\n",
       "      <td>169.928</td>\n",
       "      <td>4</td>\n",
       "      <td>141806</td>\n",
       "    </tr>\n",
       "    <tr>\n",
       "      <th>2</th>\n",
       "      <td>spotify:track:3IAfUEeaXRX9s9UdKOJrFI</td>\n",
       "      <td>Anitta</td>\n",
       "      <td>Envolver</td>\n",
       "      <td>3</td>\n",
       "      <td>3</td>\n",
       "      <td>0.812</td>\n",
       "      <td>0.736</td>\n",
       "      <td>4</td>\n",
       "      <td>-5.421</td>\n",
       "      <td>0</td>\n",
       "      <td>0.0833</td>\n",
       "      <td>0.1520</td>\n",
       "      <td>0.002540</td>\n",
       "      <td>0.0914</td>\n",
       "      <td>91.993</td>\n",
       "      <td>4</td>\n",
       "      <td>193806</td>\n",
       "    </tr>\n",
       "    <tr>\n",
       "      <th>3</th>\n",
       "      <td>spotify:track:1HhNoOuqm1a5MXYEgAFl8o</td>\n",
       "      <td>Imagine Dragons, JID, Arcane, League of Legends</td>\n",
       "      <td>Enemy (with JID) - from the series Arcane Leag...</td>\n",
       "      <td>3</td>\n",
       "      <td>21</td>\n",
       "      <td>0.728</td>\n",
       "      <td>0.783</td>\n",
       "      <td>11</td>\n",
       "      <td>-4.424</td>\n",
       "      <td>0</td>\n",
       "      <td>0.2660</td>\n",
       "      <td>0.2370</td>\n",
       "      <td>0.000000</td>\n",
       "      <td>0.4340</td>\n",
       "      <td>77.011</td>\n",
       "      <td>4</td>\n",
       "      <td>173381</td>\n",
       "    </tr>\n",
       "    <tr>\n",
       "      <th>4</th>\n",
       "      <td>spotify:track:4fouWK6XVHhzl78KzQ1UjL</td>\n",
       "      <td>GAYLE</td>\n",
       "      <td>abcdefu</td>\n",
       "      <td>1</td>\n",
       "      <td>19</td>\n",
       "      <td>0.695</td>\n",
       "      <td>0.540</td>\n",
       "      <td>4</td>\n",
       "      <td>-5.692</td>\n",
       "      <td>1</td>\n",
       "      <td>0.0493</td>\n",
       "      <td>0.2990</td>\n",
       "      <td>0.000000</td>\n",
       "      <td>0.3670</td>\n",
       "      <td>121.932</td>\n",
       "      <td>4</td>\n",
       "      <td>168602</td>\n",
       "    </tr>\n",
       "  </tbody>\n",
       "</table>\n",
       "</div>"
      ],
      "text/plain": [
       "                                    uri  \\\n",
       "0  spotify:track:02MWAaffLxlfxAUY7c5dvx   \n",
       "1  spotify:track:5PjdY0CKGZdEuoNab3yDmX   \n",
       "2  spotify:track:3IAfUEeaXRX9s9UdKOJrFI   \n",
       "3  spotify:track:1HhNoOuqm1a5MXYEgAFl8o   \n",
       "4  spotify:track:4fouWK6XVHhzl78KzQ1UjL   \n",
       "\n",
       "                                      artist_names  \\\n",
       "0                                    Glass Animals   \n",
       "1                     The Kid LAROI, Justin Bieber   \n",
       "2                                           Anitta   \n",
       "3  Imagine Dragons, JID, Arcane, League of Legends   \n",
       "4                                            GAYLE   \n",
       "\n",
       "                                          track_name  peak_rank  \\\n",
       "0                                         Heat Waves          1   \n",
       "1                          STAY (with Justin Bieber)          1   \n",
       "2                                           Envolver          3   \n",
       "3  Enemy (with JID) - from the series Arcane Leag...          3   \n",
       "4                                            abcdefu          1   \n",
       "\n",
       "   weeks_on_chart  danceability  energy  key  loudness  mode  speechiness  \\\n",
       "0              65         0.761   0.525   11    -6.900     1       0.0944   \n",
       "1              37         0.591   0.764    1    -5.484     1       0.0483   \n",
       "2               3         0.812   0.736    4    -5.421     0       0.0833   \n",
       "3              21         0.728   0.783   11    -4.424     0       0.2660   \n",
       "4              19         0.695   0.540    4    -5.692     1       0.0493   \n",
       "\n",
       "   acousticness  instrumentalness  liveness    tempo  time_signature  \\\n",
       "0        0.4400          0.000007    0.0921   80.870               4   \n",
       "1        0.0383          0.000000    0.1030  169.928               4   \n",
       "2        0.1520          0.002540    0.0914   91.993               4   \n",
       "3        0.2370          0.000000    0.4340   77.011               4   \n",
       "4        0.2990          0.000000    0.3670  121.932               4   \n",
       "\n",
       "   duration_ms  \n",
       "0       238805  \n",
       "1       141806  \n",
       "2       193806  \n",
       "3       173381  \n",
       "4       168602  "
      ]
     },
     "execution_count": 19,
     "metadata": {},
     "output_type": "execute_result"
    }
   ],
   "source": [
    "data.head()"
   ]
  },
  {
   "cell_type": "code",
   "execution_count": 20,
   "id": "30dd70ac-491d-4a42-82dd-eb253333411a",
   "metadata": {},
   "outputs": [
    {
     "data": {
      "text/plain": [
       "(646, 17)"
      ]
     },
     "execution_count": 20,
     "metadata": {},
     "output_type": "execute_result"
    }
   ],
   "source": [
    "data.shape"
   ]
  },
  {
   "cell_type": "code",
   "execution_count": 21,
   "id": "270587b4-1cac-4fbe-9301-423a756b4327",
   "metadata": {},
   "outputs": [
    {
     "name": "stdout",
     "output_type": "stream",
     "text": [
      "<class 'pandas.core.frame.DataFrame'>\n",
      "RangeIndex: 646 entries, 0 to 645\n",
      "Data columns (total 17 columns):\n",
      " #   Column            Non-Null Count  Dtype  \n",
      "---  ------            --------------  -----  \n",
      " 0   uri               646 non-null    object \n",
      " 1   artist_names      646 non-null    object \n",
      " 2   track_name        646 non-null    object \n",
      " 3   peak_rank         646 non-null    int64  \n",
      " 4   weeks_on_chart    646 non-null    int64  \n",
      " 5   danceability      646 non-null    float64\n",
      " 6   energy            646 non-null    float64\n",
      " 7   key               646 non-null    int64  \n",
      " 8   loudness          646 non-null    float64\n",
      " 9   mode              646 non-null    int64  \n",
      " 10  speechiness       646 non-null    float64\n",
      " 11  acousticness      646 non-null    float64\n",
      " 12  instrumentalness  646 non-null    float64\n",
      " 13  liveness          646 non-null    float64\n",
      " 14  tempo             646 non-null    float64\n",
      " 15  time_signature    646 non-null    int64  \n",
      " 16  duration_ms       646 non-null    int64  \n",
      "dtypes: float64(8), int64(6), object(3)\n",
      "memory usage: 85.9+ KB\n"
     ]
    }
   ],
   "source": [
    "data.info()"
   ]
  },
  {
   "cell_type": "code",
   "execution_count": 22,
   "id": "a583fcab-1665-4c7d-b438-79d7fa7bf301",
   "metadata": {},
   "outputs": [
    {
     "data": {
      "text/plain": [
       "uri                 0\n",
       "artist_names        0\n",
       "track_name          0\n",
       "peak_rank           0\n",
       "weeks_on_chart      0\n",
       "danceability        0\n",
       "energy              0\n",
       "key                 0\n",
       "loudness            0\n",
       "mode                0\n",
       "speechiness         0\n",
       "acousticness        0\n",
       "instrumentalness    0\n",
       "liveness            0\n",
       "tempo               0\n",
       "time_signature      0\n",
       "duration_ms         0\n",
       "dtype: int64"
      ]
     },
     "execution_count": 22,
     "metadata": {},
     "output_type": "execute_result"
    }
   ],
   "source": [
    "data.isnull().sum()"
   ]
  },
  {
   "cell_type": "code",
   "execution_count": 23,
   "id": "6e388412-fb32-49c5-a1c3-ae69c074a3da",
   "metadata": {},
   "outputs": [
    {
     "data": {
      "text/plain": [
       "0"
      ]
     },
     "execution_count": 23,
     "metadata": {},
     "output_type": "execute_result"
    }
   ],
   "source": [
    "data.duplicated().sum()\n"
   ]
  },
  {
   "cell_type": "code",
   "execution_count": 24,
   "id": "9caeb092-9b9d-473b-9eb1-88159ed137e3",
   "metadata": {},
   "outputs": [
    {
     "data": {
      "text/html": [
       "<div>\n",
       "<style scoped>\n",
       "    .dataframe tbody tr th:only-of-type {\n",
       "        vertical-align: middle;\n",
       "    }\n",
       "\n",
       "    .dataframe tbody tr th {\n",
       "        vertical-align: top;\n",
       "    }\n",
       "\n",
       "    .dataframe thead th {\n",
       "        text-align: right;\n",
       "    }\n",
       "</style>\n",
       "<table border=\"1\" class=\"dataframe\">\n",
       "  <thead>\n",
       "    <tr style=\"text-align: right;\">\n",
       "      <th></th>\n",
       "      <th>peak_rank</th>\n",
       "      <th>weeks_on_chart</th>\n",
       "      <th>danceability</th>\n",
       "      <th>energy</th>\n",
       "      <th>key</th>\n",
       "      <th>loudness</th>\n",
       "      <th>mode</th>\n",
       "      <th>speechiness</th>\n",
       "      <th>acousticness</th>\n",
       "      <th>instrumentalness</th>\n",
       "      <th>liveness</th>\n",
       "      <th>tempo</th>\n",
       "      <th>time_signature</th>\n",
       "      <th>duration_ms</th>\n",
       "    </tr>\n",
       "  </thead>\n",
       "  <tbody>\n",
       "    <tr>\n",
       "      <th>count</th>\n",
       "      <td>646.000000</td>\n",
       "      <td>646.000000</td>\n",
       "      <td>646.000000</td>\n",
       "      <td>646.000000</td>\n",
       "      <td>646.000000</td>\n",
       "      <td>646.000000</td>\n",
       "      <td>646.000000</td>\n",
       "      <td>646.000000</td>\n",
       "      <td>646.000000</td>\n",
       "      <td>646.000000</td>\n",
       "      <td>646.000000</td>\n",
       "      <td>646.000000</td>\n",
       "      <td>646.000000</td>\n",
       "      <td>646.000000</td>\n",
       "    </tr>\n",
       "    <tr>\n",
       "      <th>mean</th>\n",
       "      <td>65.922601</td>\n",
       "      <td>19.498452</td>\n",
       "      <td>0.674426</td>\n",
       "      <td>0.640836</td>\n",
       "      <td>5.086687</td>\n",
       "      <td>-6.356034</td>\n",
       "      <td>0.577399</td>\n",
       "      <td>0.109797</td>\n",
       "      <td>0.255699</td>\n",
       "      <td>0.013686</td>\n",
       "      <td>0.176478</td>\n",
       "      <td>121.091571</td>\n",
       "      <td>3.927245</td>\n",
       "      <td>203629.859133</td>\n",
       "    </tr>\n",
       "    <tr>\n",
       "      <th>std</th>\n",
       "      <td>57.004503</td>\n",
       "      <td>37.813937</td>\n",
       "      <td>0.151527</td>\n",
       "      <td>0.165478</td>\n",
       "      <td>3.622314</td>\n",
       "      <td>2.627462</td>\n",
       "      <td>0.494356</td>\n",
       "      <td>0.102167</td>\n",
       "      <td>0.262595</td>\n",
       "      <td>0.077836</td>\n",
       "      <td>0.133792</td>\n",
       "      <td>28.267951</td>\n",
       "      <td>0.351256</td>\n",
       "      <td>54966.666438</td>\n",
       "    </tr>\n",
       "    <tr>\n",
       "      <th>min</th>\n",
       "      <td>1.000000</td>\n",
       "      <td>1.000000</td>\n",
       "      <td>0.193000</td>\n",
       "      <td>0.021800</td>\n",
       "      <td>0.000000</td>\n",
       "      <td>-31.160000</td>\n",
       "      <td>0.000000</td>\n",
       "      <td>0.023200</td>\n",
       "      <td>0.000017</td>\n",
       "      <td>0.000000</td>\n",
       "      <td>0.026400</td>\n",
       "      <td>66.165000</td>\n",
       "      <td>1.000000</td>\n",
       "      <td>36935.000000</td>\n",
       "    </tr>\n",
       "    <tr>\n",
       "      <th>25%</th>\n",
       "      <td>15.000000</td>\n",
       "      <td>1.000000</td>\n",
       "      <td>0.569000</td>\n",
       "      <td>0.532500</td>\n",
       "      <td>1.000000</td>\n",
       "      <td>-7.716250</td>\n",
       "      <td>0.000000</td>\n",
       "      <td>0.041325</td>\n",
       "      <td>0.040400</td>\n",
       "      <td>0.000000</td>\n",
       "      <td>0.093100</td>\n",
       "      <td>98.428500</td>\n",
       "      <td>4.000000</td>\n",
       "      <td>169901.500000</td>\n",
       "    </tr>\n",
       "    <tr>\n",
       "      <th>50%</th>\n",
       "      <td>51.500000</td>\n",
       "      <td>5.000000</td>\n",
       "      <td>0.700000</td>\n",
       "      <td>0.652000</td>\n",
       "      <td>5.000000</td>\n",
       "      <td>-5.930500</td>\n",
       "      <td>1.000000</td>\n",
       "      <td>0.063450</td>\n",
       "      <td>0.155500</td>\n",
       "      <td>0.000002</td>\n",
       "      <td>0.120000</td>\n",
       "      <td>119.966000</td>\n",
       "      <td>4.000000</td>\n",
       "      <td>196388.500000</td>\n",
       "    </tr>\n",
       "    <tr>\n",
       "      <th>75%</th>\n",
       "      <td>108.750000</td>\n",
       "      <td>19.750000</td>\n",
       "      <td>0.790750</td>\n",
       "      <td>0.769000</td>\n",
       "      <td>8.000000</td>\n",
       "      <td>-4.595750</td>\n",
       "      <td>1.000000</td>\n",
       "      <td>0.135750</td>\n",
       "      <td>0.424500</td>\n",
       "      <td>0.000105</td>\n",
       "      <td>0.231750</td>\n",
       "      <td>139.968250</td>\n",
       "      <td>4.000000</td>\n",
       "      <td>229213.500000</td>\n",
       "    </tr>\n",
       "    <tr>\n",
       "      <th>max</th>\n",
       "      <td>200.000000</td>\n",
       "      <td>269.000000</td>\n",
       "      <td>0.985000</td>\n",
       "      <td>0.972000</td>\n",
       "      <td>11.000000</td>\n",
       "      <td>-0.514000</td>\n",
       "      <td>1.000000</td>\n",
       "      <td>0.611000</td>\n",
       "      <td>0.969000</td>\n",
       "      <td>0.908000</td>\n",
       "      <td>0.968000</td>\n",
       "      <td>205.863000</td>\n",
       "      <td>5.000000</td>\n",
       "      <td>613027.000000</td>\n",
       "    </tr>\n",
       "  </tbody>\n",
       "</table>\n",
       "</div>"
      ],
      "text/plain": [
       "        peak_rank  weeks_on_chart  danceability      energy         key  \\\n",
       "count  646.000000      646.000000    646.000000  646.000000  646.000000   \n",
       "mean    65.922601       19.498452      0.674426    0.640836    5.086687   \n",
       "std     57.004503       37.813937      0.151527    0.165478    3.622314   \n",
       "min      1.000000        1.000000      0.193000    0.021800    0.000000   \n",
       "25%     15.000000        1.000000      0.569000    0.532500    1.000000   \n",
       "50%     51.500000        5.000000      0.700000    0.652000    5.000000   \n",
       "75%    108.750000       19.750000      0.790750    0.769000    8.000000   \n",
       "max    200.000000      269.000000      0.985000    0.972000   11.000000   \n",
       "\n",
       "         loudness        mode  speechiness  acousticness  instrumentalness  \\\n",
       "count  646.000000  646.000000   646.000000    646.000000        646.000000   \n",
       "mean    -6.356034    0.577399     0.109797      0.255699          0.013686   \n",
       "std      2.627462    0.494356     0.102167      0.262595          0.077836   \n",
       "min    -31.160000    0.000000     0.023200      0.000017          0.000000   \n",
       "25%     -7.716250    0.000000     0.041325      0.040400          0.000000   \n",
       "50%     -5.930500    1.000000     0.063450      0.155500          0.000002   \n",
       "75%     -4.595750    1.000000     0.135750      0.424500          0.000105   \n",
       "max     -0.514000    1.000000     0.611000      0.969000          0.908000   \n",
       "\n",
       "         liveness       tempo  time_signature    duration_ms  \n",
       "count  646.000000  646.000000      646.000000     646.000000  \n",
       "mean     0.176478  121.091571        3.927245  203629.859133  \n",
       "std      0.133792   28.267951        0.351256   54966.666438  \n",
       "min      0.026400   66.165000        1.000000   36935.000000  \n",
       "25%      0.093100   98.428500        4.000000  169901.500000  \n",
       "50%      0.120000  119.966000        4.000000  196388.500000  \n",
       "75%      0.231750  139.968250        4.000000  229213.500000  \n",
       "max      0.968000  205.863000        5.000000  613027.000000  "
      ]
     },
     "execution_count": 24,
     "metadata": {},
     "output_type": "execute_result"
    }
   ],
   "source": [
    "data.describe()\n"
   ]
  },
  {
   "cell_type": "markdown",
   "id": "f282f22f-8187-42af-9044-82e3cf36ffdf",
   "metadata": {},
   "source": [
    "# Data Analysis"
   ]
  },
  {
   "cell_type": "markdown",
   "id": "ea3b908a-b76f-406f-b341-daf3c0a2cfc6",
   "metadata": {},
   "source": [
    "### Top 5 most popular artists¶"
   ]
  },
  {
   "cell_type": "code",
   "execution_count": 26,
   "id": "fbff7516-e1e8-4940-9a02-a7c037c70220",
   "metadata": {},
   "outputs": [
    {
     "data": {
      "text/plain": [
       "Index(['uri', 'artist_names', 'track_name', 'peak_rank', 'weeks_on_chart',\n",
       "       'danceability', 'energy', 'key', 'loudness', 'mode', 'speechiness',\n",
       "       'acousticness', 'instrumentalness', 'liveness', 'tempo',\n",
       "       'time_signature', 'duration_ms'],\n",
       "      dtype='object')"
      ]
     },
     "execution_count": 26,
     "metadata": {},
     "output_type": "execute_result"
    }
   ],
   "source": [
    "data.columns\n"
   ]
  },
  {
   "cell_type": "markdown",
   "id": "7abf840d-8dd7-4aee-bbec-4b169df05b33",
   "metadata": {},
   "source": [
    "Can we find top 5 most popular artist_names?\n"
   ]
  },
  {
   "cell_type": "code",
   "execution_count": 27,
   "id": "da80112e-c020-41d6-9fec-2c088ac4fe40",
   "metadata": {},
   "outputs": [
    {
     "data": {
      "text/plain": [
       "artist_names\n",
       "The Weeknd      20\n",
       "Bad Bunny       19\n",
       "Harry Styles    18\n",
       "Beyoncé         14\n",
       "Drake           13\n",
       "Name: track_name, dtype: int64"
      ]
     },
     "execution_count": 27,
     "metadata": {},
     "output_type": "execute_result"
    }
   ],
   "source": [
    "T1=data.groupby(\"artist_names\").count().sort_values(by='track_name',ascending=False)['track_name'][:5]\n",
    "T1"
   ]
  },
  {
   "cell_type": "code",
   "execution_count": 28,
   "id": "4a6080d0-3b04-450c-925b-5cee605ef9c9",
   "metadata": {},
   "outputs": [
    {
     "data": {
      "image/png": "[encoded data removed]",
      "text/plain": [
       "<Figure size 640x480 with 1 Axes>"
      ]
     },
     "metadata": {},
     "output_type": "display_data"
    }
   ],
   "source": [
    "T1.plot.barh()\n",
    "plt.show()"
   ]
  },
  {
   "cell_type": "markdown",
   "id": "b8516c0c-6e7a-49a6-8056-ba08a7101ed3",
   "metadata": {},
   "source": [
    "##### The Weeknd is the most popular artist among the top chart songs in 2022, followed by Bad Bunny, Harry Styles, Beyoncé, and Drake.\n"
   ]
  },
  {
   "cell_type": "markdown",
   "id": "32bafde8-3dab-4e81-af2d-04f576068021",
   "metadata": {},
   "source": [
    "### Top 5 danceability track\n"
   ]
  },
  {
   "cell_type": "code",
   "execution_count": 30,
   "id": "cd8a2a0d-ffd5-4020-9c99-9b11e84de967",
   "metadata": {},
   "outputs": [
    {
     "data": {
      "text/html": [
       "<div>\n",
       "<style scoped>\n",
       "    .dataframe tbody tr th:only-of-type {\n",
       "        vertical-align: middle;\n",
       "    }\n",
       "\n",
       "    .dataframe tbody tr th {\n",
       "        vertical-align: top;\n",
       "    }\n",
       "\n",
       "    .dataframe thead th {\n",
       "        text-align: right;\n",
       "    }\n",
       "</style>\n",
       "<table border=\"1\" class=\"dataframe\">\n",
       "  <thead>\n",
       "    <tr style=\"text-align: right;\">\n",
       "      <th></th>\n",
       "      <th>danceability</th>\n",
       "      <th>track_name</th>\n",
       "    </tr>\n",
       "  </thead>\n",
       "  <tbody>\n",
       "    <tr>\n",
       "      <th>616</th>\n",
       "      <td>0.193</td>\n",
       "      <td>Intro</td>\n",
       "    </tr>\n",
       "    <tr>\n",
       "      <th>627</th>\n",
       "      <td>0.280</td>\n",
       "      <td>Dawn FM</td>\n",
       "    </tr>\n",
       "    <tr>\n",
       "      <th>595</th>\n",
       "      <td>0.301</td>\n",
       "      <td>Euthanasia</td>\n",
       "    </tr>\n",
       "    <tr>\n",
       "      <th>130</th>\n",
       "      <td>0.308</td>\n",
       "      <td>Down Under (feat. Colin Hay)</td>\n",
       "    </tr>\n",
       "    <tr>\n",
       "      <th>94</th>\n",
       "      <td>0.309</td>\n",
       "      <td>Notion</td>\n",
       "    </tr>\n",
       "  </tbody>\n",
       "</table>\n",
       "</div>"
      ],
      "text/plain": [
       "     danceability                    track_name\n",
       "616         0.193                         Intro\n",
       "627         0.280                       Dawn FM\n",
       "595         0.301                    Euthanasia\n",
       "130         0.308  Down Under (feat. Colin Hay)\n",
       "94          0.309                        Notion"
      ]
     },
     "execution_count": 30,
     "metadata": {},
     "output_type": "execute_result"
    }
   ],
   "source": [
    "T2=data[['danceability','track_name']].sort_values(by='danceability',ascending=True)[:5]\n",
    "T2"
   ]
  },
  {
   "cell_type": "code",
   "execution_count": 31,
   "id": "e7482e90-cbd1-476b-9480-631b6dfea609",
   "metadata": {},
   "outputs": [
    {
     "name": "stderr",
     "output_type": "stream",
     "text": [
      "C:\\Users\\lenovo\\AppData\\Local\\Programs\\Python\\Python311\\Lib\\site-packages\\seaborn\\_oldcore.py:1498: FutureWarning: is_categorical_dtype is deprecated and will be removed in a future version. Use isinstance(dtype, CategoricalDtype) instead\n",
      "  if pd.api.types.is_categorical_dtype(vector):\n",
      "C:\\Users\\lenovo\\AppData\\Local\\Programs\\Python\\Python311\\Lib\\site-packages\\seaborn\\_oldcore.py:1498: FutureWarning: is_categorical_dtype is deprecated and will be removed in a future version. Use isinstance(dtype, CategoricalDtype) instead\n",
      "  if pd.api.types.is_categorical_dtype(vector):\n",
      "C:\\Users\\lenovo\\AppData\\Local\\Programs\\Python\\Python311\\Lib\\site-packages\\seaborn\\_oldcore.py:1498: FutureWarning: is_categorical_dtype is deprecated and will be removed in a future version. Use isinstance(dtype, CategoricalDtype) instead\n",
      "  if pd.api.types.is_categorical_dtype(vector):\n"
     ]
    },
    {
     "data": {
      "image/png": "[encoded data removed]",
      "text/plain": [
       "<Figure size 1000x700 with 1 Axes>"
      ]
     },
     "metadata": {},
     "output_type": "display_data"
    }
   ],
   "source": [
    "plt.figure(figsize=(10,7))\n",
    "sns.barplot(x=\"danceability\",y=\"track_name\",data=T2)\n",
    "plt.title(\"Top 5 danceability tracks\")\n",
    "plt.show()"
   ]
  },
  {
   "cell_type": "markdown",
   "id": "b9937466-0287-41da-89a1-958a086950c5",
   "metadata": {},
   "source": [
    "#### You've identified the top 5 tracks with the lowest danceability scores, including songs like \"Intro,\" \"Dawn FM,\" and \"Euthanasia.\""
   ]
  },
  {
   "cell_type": "markdown",
   "id": "bcd5250c-7f29-416f-b6b3-529bbc6f5dcc",
   "metadata": {},
   "source": [
    "### Artist with most acousticness track¶\n"
   ]
  },
  {
   "cell_type": "code",
   "execution_count": 32,
   "id": "c3166d65-00f9-4663-811a-12d095a5afc6",
   "metadata": {},
   "outputs": [
    {
     "data": {
      "text/plain": [
       "Index(['uri', 'artist_names', 'track_name', 'peak_rank', 'weeks_on_chart',\n",
       "       'danceability', 'energy', 'key', 'loudness', 'mode', 'speechiness',\n",
       "       'acousticness', 'instrumentalness', 'liveness', 'tempo',\n",
       "       'time_signature', 'duration_ms'],\n",
       "      dtype='object')"
      ]
     },
     "execution_count": 32,
     "metadata": {},
     "output_type": "execute_result"
    }
   ],
   "source": [
    "data.columns\n"
   ]
  },
  {
   "cell_type": "code",
   "execution_count": 33,
   "id": "204326a5-145d-4875-ad22-e1a9e43ef41a",
   "metadata": {},
   "outputs": [
    {
     "data": {
      "text/html": [
       "<div>\n",
       "<style scoped>\n",
       "    .dataframe tbody tr th:only-of-type {\n",
       "        vertical-align: middle;\n",
       "    }\n",
       "\n",
       "    .dataframe tbody tr th {\n",
       "        vertical-align: top;\n",
       "    }\n",
       "\n",
       "    .dataframe thead th {\n",
       "        text-align: right;\n",
       "    }\n",
       "</style>\n",
       "<table border=\"1\" class=\"dataframe\">\n",
       "  <thead>\n",
       "    <tr style=\"text-align: right;\">\n",
       "      <th></th>\n",
       "      <th>acousticness</th>\n",
       "      <th>track_name</th>\n",
       "      <th>artist_names</th>\n",
       "    </tr>\n",
       "  </thead>\n",
       "  <tbody>\n",
       "    <tr>\n",
       "      <th>474</th>\n",
       "      <td>0.969</td>\n",
       "      <td>The Night We Met</td>\n",
       "      <td>Lord Huron</td>\n",
       "    </tr>\n",
       "    <tr>\n",
       "      <th>619</th>\n",
       "      <td>0.965</td>\n",
       "      <td>Down Hill</td>\n",
       "      <td>Drake</td>\n",
       "    </tr>\n",
       "    <tr>\n",
       "      <th>477</th>\n",
       "      <td>0.964</td>\n",
       "      <td>Watercolor Eyes - From “Euphoria” An HBO Origi...</td>\n",
       "      <td>Lana Del Rey</td>\n",
       "    </tr>\n",
       "    <tr>\n",
       "      <th>616</th>\n",
       "      <td>0.955</td>\n",
       "      <td>Intro</td>\n",
       "      <td>Drake</td>\n",
       "    </tr>\n",
       "    <tr>\n",
       "      <th>55</th>\n",
       "      <td>0.947</td>\n",
       "      <td>LA FAMA (with The Weeknd)</td>\n",
       "      <td>ROSALÍA, The Weeknd</td>\n",
       "    </tr>\n",
       "  </tbody>\n",
       "</table>\n",
       "</div>"
      ],
      "text/plain": [
       "     acousticness                                         track_name  \\\n",
       "474         0.969                                   The Night We Met   \n",
       "619         0.965                                          Down Hill   \n",
       "477         0.964  Watercolor Eyes - From “Euphoria” An HBO Origi...   \n",
       "616         0.955                                              Intro   \n",
       "55          0.947                          LA FAMA (with The Weeknd)   \n",
       "\n",
       "            artist_names  \n",
       "474           Lord Huron  \n",
       "619                Drake  \n",
       "477         Lana Del Rey  \n",
       "616                Drake  \n",
       "55   ROSALÍA, The Weeknd  "
      ]
     },
     "execution_count": 33,
     "metadata": {},
     "output_type": "execute_result"
    }
   ],
   "source": [
    "T3=data[[\"acousticness\",\"track_name\",\"artist_names\"]].sort_values(by='acousticness',ascending=False)[:5]\n",
    "T3"
   ]
  },
  {
   "cell_type": "code",
   "execution_count": 34,
   "id": "56f8ac28-156b-4f07-8e0b-04c46ce725b4",
   "metadata": {},
   "outputs": [
    {
     "name": "stderr",
     "output_type": "stream",
     "text": [
      "C:\\Users\\lenovo\\AppData\\Local\\Programs\\Python\\Python311\\Lib\\site-packages\\seaborn\\_oldcore.py:1498: FutureWarning: is_categorical_dtype is deprecated and will be removed in a future version. Use isinstance(dtype, CategoricalDtype) instead\n",
      "  if pd.api.types.is_categorical_dtype(vector):\n",
      "C:\\Users\\lenovo\\AppData\\Local\\Programs\\Python\\Python311\\Lib\\site-packages\\seaborn\\_oldcore.py:1498: FutureWarning: is_categorical_dtype is deprecated and will be removed in a future version. Use isinstance(dtype, CategoricalDtype) instead\n",
      "  if pd.api.types.is_categorical_dtype(vector):\n",
      "C:\\Users\\lenovo\\AppData\\Local\\Programs\\Python\\Python311\\Lib\\site-packages\\seaborn\\_oldcore.py:1498: FutureWarning: is_categorical_dtype is deprecated and will be removed in a future version. Use isinstance(dtype, CategoricalDtype) instead\n",
      "  if pd.api.types.is_categorical_dtype(vector):\n"
     ]
    },
    {
     "data": {
      "image/png": "[encoded data removed]",
      "text/plain": [
       "<Figure size 700x600 with 1 Axes>"
      ]
     },
     "metadata": {},
     "output_type": "display_data"
    }
   ],
   "source": [
    "plt.figure(figsize=(7,6))\n",
    "sns.barplot(y=\"acousticness\",x=\"artist_names\",data=T3)\n",
    "plt.title(\"Artist with the most acousticness track\")\n",
    "plt.show()"
   ]
  },
  {
   "cell_type": "markdown",
   "id": "d2488ed0-015d-429c-bd05-66148c057612",
   "metadata": {},
   "source": [
    "### Lord Huron's song \"The Night We Met\" has the highest acousticness among the top chart songs in 2022."
   ]
  },
  {
   "cell_type": "markdown",
   "id": "fafab16e-d5ae-4cbf-9072-4304d1b2661d",
   "metadata": {},
   "source": [
    "### Top 5 liveness tracks\n"
   ]
  },
  {
   "cell_type": "code",
   "execution_count": 35,
   "id": "2414cdcc-c9b5-4ffe-b59b-1f76b9d7ed21",
   "metadata": {},
   "outputs": [
    {
     "data": {
      "text/html": [
       "<div>\n",
       "<style scoped>\n",
       "    .dataframe tbody tr th:only-of-type {\n",
       "        vertical-align: middle;\n",
       "    }\n",
       "\n",
       "    .dataframe tbody tr th {\n",
       "        vertical-align: top;\n",
       "    }\n",
       "\n",
       "    .dataframe thead th {\n",
       "        text-align: right;\n",
       "    }\n",
       "</style>\n",
       "<table border=\"1\" class=\"dataframe\">\n",
       "  <thead>\n",
       "    <tr style=\"text-align: right;\">\n",
       "      <th></th>\n",
       "      <th>liveness</th>\n",
       "      <th>track_name</th>\n",
       "      <th>artist_names</th>\n",
       "    </tr>\n",
       "  </thead>\n",
       "  <tbody>\n",
       "    <tr>\n",
       "      <th>344</th>\n",
       "      <td>0.968</td>\n",
       "      <td>Vai Lá Em Casa Hoje</td>\n",
       "      <td>George Henrique &amp; Rodrigo, Marília Mendonça</td>\n",
       "    </tr>\n",
       "    <tr>\n",
       "      <th>407</th>\n",
       "      <td>0.923</td>\n",
       "      <td>emo girl (feat. WILLOW)</td>\n",
       "      <td>Machine Gun Kelly, WILLOW</td>\n",
       "    </tr>\n",
       "    <tr>\n",
       "      <th>163</th>\n",
       "      <td>0.903</td>\n",
       "      <td>Mal Feito - Ao Vivo</td>\n",
       "      <td>Hugo &amp; Guilherme, Marília Mendonça</td>\n",
       "    </tr>\n",
       "    <tr>\n",
       "      <th>314</th>\n",
       "      <td>0.741</td>\n",
       "      <td>VIRGO'S GROOVE</td>\n",
       "      <td>Beyoncé</td>\n",
       "    </tr>\n",
       "    <tr>\n",
       "      <th>560</th>\n",
       "      <td>0.673</td>\n",
       "      <td>NEW MAGIC WAND</td>\n",
       "      <td>Tyler, The Creator</td>\n",
       "    </tr>\n",
       "  </tbody>\n",
       "</table>\n",
       "</div>"
      ],
      "text/plain": [
       "     liveness               track_name  \\\n",
       "344     0.968      Vai Lá Em Casa Hoje   \n",
       "407     0.923  emo girl (feat. WILLOW)   \n",
       "163     0.903      Mal Feito - Ao Vivo   \n",
       "314     0.741           VIRGO'S GROOVE   \n",
       "560     0.673           NEW MAGIC WAND   \n",
       "\n",
       "                                    artist_names  \n",
       "344  George Henrique & Rodrigo, Marília Mendonça  \n",
       "407                    Machine Gun Kelly, WILLOW  \n",
       "163           Hugo & Guilherme, Marília Mendonça  \n",
       "314                                      Beyoncé  \n",
       "560                           Tyler, The Creator  "
      ]
     },
     "execution_count": 35,
     "metadata": {},
     "output_type": "execute_result"
    }
   ],
   "source": [
    "T4=data[[\"liveness\",\"track_name\",\"artist_names\"]].sort_values(by=\"liveness\",ascending=False)[:5]\n",
    "T4"
   ]
  },
  {
   "cell_type": "code",
   "execution_count": 36,
   "id": "ee1b6991-76f6-438d-abd0-c348d8d70f30",
   "metadata": {
    "scrolled": true
   },
   "outputs": [
    {
     "data": {
      "image/png": "[encoded data removed]",
      "text/plain": [
       "<Figure size 1200x700 with 1 Axes>"
      ]
     },
     "metadata": {},
     "output_type": "display_data"
    }
   ],
   "source": [
    "plt.figure(figsize=(12,7))\n",
    "plt.pie(x=\"liveness\",data=T4,autopct=\"%1.2f%%\",labels=T4.track_name)\n",
    "plt.show()"
   ]
  },
  {
   "cell_type": "markdown",
   "id": "49d67390-61fe-4f16-8b9b-c8a5d8024236",
   "metadata": {},
   "source": [
    "### the top 5 tracks with the highest liveness scores, including songs by artists like George Henrique & Rodrigo, Machine Gun Kelly, and Beyoncé."
   ]
  },
  {
   "cell_type": "markdown",
   "id": "2f7034d8-fd89-4e90-8972-74a4ad7a8a52",
   "metadata": {},
   "source": [
    " # Conclusion:\n",
    "\n",
    "### - This is the dataset of spotify top chart songs 2022.\n",
    "### - The Weeknd is the most popular artist among them.\n",
    "### - Intro is the top danceability track."
   ]
  },
  {
   "cell_type": "code",
   "execution_count": null,
   "id": "ac4088c7-b4cb-466c-a998-bdaaed6a23f3",
   "metadata": {},
   "outputs": [],
   "source": []
  },
  {
   "cell_type": "code",
   "execution_count": null,
   "id": "62ef15b8-f5ad-472b-825f-e543ffd0f70a",
   "metadata": {},
   "outputs": [],
   "source": []
  },
  {
   "cell_type": "code",
   "execution_count": null,
   "id": "4a212c67-d0c6-4b4c-8a21-c37c06ba5630",
   "metadata": {},
   "outputs": [],
   "source": []
  },
  {
   "cell_type": "code",
   "execution_count": null,
   "id": "d49fc9db-3cd2-4e7c-8b70-18bbaca3ea07",
   "metadata": {},
   "outputs": [],
   "source": []
  },
  {
   "cell_type": "code",
   "execution_count": null,
   "id": "a177571e-b9d2-4527-bafd-4825ec7c74fa",
   "metadata": {},
   "outputs": [],
   "source": []
  }
 ],
 "metadata": {
  "kernelspec": {
   "display_name": "Python 3 (ipykernel)",
   "language": "python",
   "name": "python3"
  },
  "language_info": {
   "codemirror_mode": {
    "name": "ipython",
    "version": 3
   },
   "file_extension": ".py",
   "mimetype": "text/x-python",
   "name": "python",
   "nbconvert_exporter": "python",
   "pygments_lexer": "ipython3",
   "version": "3.11.5"
  }
 },
 "nbformat": 4,
 "nbformat_minor": 5
}
